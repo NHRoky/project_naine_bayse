{
 "cells": [
  {
   "cell_type": "code",
   "execution_count": null,
   "id": "8c2536b2-85fe-4db7-9ea7-cc837c2d97ed",
   "metadata": {},
   "outputs": [],
   "source": [
    "import pandas as pd\n",
    "import numpy as np"
   ]
  },
  {
   "cell_type": "code",
   "execution_count": null,
   "id": "29fc6726-36cc-4791-8d8e-97d0a8855bec",
   "metadata": {},
   "outputs": [],
   "source": [
    "df = pd.read_csv(\"Assignment_Data_fake_or_real_news.csv\")\n",
    "df"
   ]
  },
  {
   "cell_type": "code",
   "execution_count": null,
   "id": "9ea7dfb8-5740-4333-bac3-0fccdaf67abf",
   "metadata": {},
   "outputs": [],
   "source": [
    "df.label.value_counts()"
   ]
  },
  {
   "cell_type": "code",
   "execution_count": null,
   "id": "2b75d2e0-0005-4f74-b53e-4bae7df92bef",
   "metadata": {},
   "outputs": [],
   "source": [
    "df.shape"
   ]
  },
  {
   "cell_type": "code",
   "execution_count": null,
   "id": "86961381-9cc5-4946-9835-478a77ad9d0a",
   "metadata": {},
   "outputs": [],
   "source": [
    "from sklearn.model_selection import train_test_split\n",
    "\n",
    "X_train, X_test, y_train, y_test = train_test_split(df.text, df.label, test_size=0.2, random_state=1)"
   ]
  },
  {
   "cell_type": "code",
   "execution_count": null,
   "id": "ac886c84-9a0c-4302-9ac7-bc8c369d7632",
   "metadata": {},
   "outputs": [],
   "source": [
    "X_train.shape"
   ]
  },
  {
   "cell_type": "code",
   "execution_count": null,
   "id": "65ceeeae-3d85-4e33-a908-9ec06c7fb020",
   "metadata": {},
   "outputs": [],
   "source": [
    "X_test.shape"
   ]
  },
  {
   "cell_type": "code",
   "execution_count": null,
   "id": "4f6e2453-77e1-47ba-8a1e-f3e20a96efc5",
   "metadata": {},
   "outputs": [],
   "source": [
    "X_test"
   ]
  },
  {
   "cell_type": "code",
   "execution_count": null,
   "id": "01deeba5-a2ca-4835-ad87-312b7bbe6d6e",
   "metadata": {},
   "outputs": [],
   "source": [
    "X_train"
   ]
  },
  {
   "cell_type": "code",
   "execution_count": null,
   "id": "9365c15a-ac27-4133-bf9e-5eb03a2442ef",
   "metadata": {},
   "outputs": [],
   "source": [
    "y_train"
   ]
  },
  {
   "cell_type": "code",
   "execution_count": null,
   "id": "0804b5d9-f57b-4ecf-a069-2e4bf1cf47c3",
   "metadata": {},
   "outputs": [],
   "source": [
    "X_train.values"
   ]
  },
  {
   "cell_type": "code",
   "execution_count": null,
   "id": "b30dd372-5203-4d91-9cf4-ad520d22ecc5",
   "metadata": {},
   "outputs": [],
   "source": [
    "X_train.values.shape"
   ]
  },
  {
   "cell_type": "code",
   "execution_count": null,
   "id": "27b1205b-2761-4b8a-9c8b-d93bcd060dca",
   "metadata": {},
   "outputs": [],
   "source": [
    "from sklearn.feature_extraction.text import CountVectorizer"
   ]
  },
  {
   "cell_type": "code",
   "execution_count": null,
   "id": "f9eaf2c5-83e4-4a0d-9813-1ae5a614bcda",
   "metadata": {},
   "outputs": [],
   "source": [
    "v = CountVectorizer()\n",
    "\n",
    "X_train_cv = v.fit_transform(X_train)\n",
    "X_train_cv"
   ]
  },
  {
   "cell_type": "code",
   "execution_count": null,
   "id": "fcde97c8-a5dc-4691-852f-39f5a4400439",
   "metadata": {},
   "outputs": [],
   "source": [
    "X_train_cv.toarray()"
   ]
  },
  {
   "cell_type": "code",
   "execution_count": null,
   "id": "a90cde38-6e8c-4b9a-946c-d5e2189e9905",
   "metadata": {},
   "outputs": [],
   "source": [
    "X_train_cv.shape"
   ]
  },
  {
   "cell_type": "code",
   "execution_count": null,
   "id": "30a13f41-c58e-4914-9875-ebef829d1982",
   "metadata": {},
   "outputs": [],
   "source": [
    "X_train_cv[0].toarray()"
   ]
  },
  {
   "cell_type": "code",
   "execution_count": null,
   "id": "7fa1e9e4-b806-40e7-a927-2f5dff2e2726",
   "metadata": {},
   "outputs": [],
   "source": [
    "v.get_feature_names_out()"
   ]
  },
  {
   "cell_type": "code",
   "execution_count": null,
   "id": "cd45869a-6b33-4be3-a338-5b8f6b753813",
   "metadata": {},
   "outputs": [],
   "source": [
    "Train_df=pd.DataFrame(X_train_cv.toarray(), columns=v.get_feature_names_out())\n",
    "Train_df"
   ]
  },
  {
   "cell_type": "code",
   "execution_count": null,
   "id": "0c838577-cae5-4647-93b5-ea859bf6bac1",
   "metadata": {},
   "outputs": [],
   "source": [
    "pd.set_option('display.max_columns', None)"
   ]
  },
  {
   "cell_type": "code",
   "execution_count": null,
   "id": "b6f82cfb-e75a-40bf-9c14-525fdf7fe5f1",
   "metadata": {},
   "outputs": [],
   "source": [
    "Train_df"
   ]
  },
  {
   "cell_type": "code",
   "execution_count": null,
   "id": "7e1795d4-16e3-476d-ae09-e08a10309be4",
   "metadata": {},
   "outputs": [],
   "source": [
    "y_train"
   ]
  },
  {
   "cell_type": "code",
   "execution_count": null,
   "id": "9d65e49c-dd81-479f-85b9-13df8afa4039",
   "metadata": {},
   "outputs": [],
   "source": [
    "X_test"
   ]
  },
  {
   "cell_type": "code",
   "execution_count": null,
   "id": "e10a4c9d-0063-43f8-b521-ee8dbe46d2c3",
   "metadata": {},
   "outputs": [],
   "source": [
    "from sklearn.naive_bayes import MultinomialNB\n",
    "model = MultinomialNB()\n",
    "model.fit(Train_df, y_train)"
   ]
  },
  {
   "cell_type": "code",
   "execution_count": null,
   "id": "16506c7e-c5f8-4fbc-a086-ee0eb4e872a0",
   "metadata": {},
   "outputs": [],
   "source": [
    "X_test_cv = v.transform(X_test)"
   ]
  },
  {
   "cell_type": "code",
   "execution_count": null,
   "id": "87ac79e0-67fa-4232-9b5e-bc3363b17c73",
   "metadata": {},
   "outputs": [],
   "source": [
    "X_test_cv.toarray().shape"
   ]
  },
  {
   "cell_type": "code",
   "execution_count": null,
   "id": "f0c76e05-0b30-495e-af51-e1f837d47d6f",
   "metadata": {},
   "outputs": [],
   "source": [
    "model.score(X_test_cv, y_test)"
   ]
  },
  {
   "cell_type": "raw",
   "id": "32f5b486-dd0b-400e-a453-10aa1ff271d0",
   "metadata": {},
   "source": [
    "ross chake"
   ]
  },
  {
   "cell_type": "code",
   "execution_count": null,
   "id": "7f400d2f-a786-4678-8526-2ef1e4c64cdc",
   "metadata": {},
   "outputs": [],
   "source": [
    "from sklearn.datasets import load_iris\n",
    "from sklearn.model_selection import cross_val_score\n",
    "import numpy as np"
   ]
  },
  {
   "cell_type": "code",
   "execution_count": null,
   "id": "824a263f-e75d-48b3-9804-837f94aaf842",
   "metadata": {},
   "outputs": [],
   "source": [
    "from sklearn.naive_bayes import GaussianNB"
   ]
  },
  {
   "cell_type": "code",
   "execution_count": null,
   "id": "fe2372d2-0305-42b3-8f4c-caa8a93cba60",
   "metadata": {},
   "outputs": [],
   "source": [
    "X, y = load_iris(return_X_y=True)"
   ]
  },
  {
   "cell_type": "code",
   "execution_count": null,
   "id": "e02578d1-e710-4028-a230-9edb791270db",
   "metadata": {},
   "outputs": [],
   "source": [
    "model = GaussianNB()"
   ]
  },
  {
   "cell_type": "code",
   "execution_count": null,
   "id": "f444ed83-7e03-4556-8747-72adc951f379",
   "metadata": {},
   "outputs": [],
   "source": [
    "scores = cross_val_score(model, X, y, cv=5)"
   ]
  },
  {
   "cell_type": "code",
   "execution_count": null,
   "id": "a805aa8d-d859-4b7f-8549-72ad1026c423",
   "metadata": {},
   "outputs": [],
   "source": [
    "print(f\"Cross-validation scores: {scores}\")\n",
    "print(f\"Average accuracy: {np.mean(scores):.2f}\")"
   ]
  },
  {
   "cell_type": "code",
   "execution_count": null,
   "id": "9506ab1a-298c-43a9-8362-1ecb53dc46c9",
   "metadata": {},
   "outputs": [],
   "source": []
  }
 ],
 "metadata": {
  "kernelspec": {
   "display_name": "Python 3 (ipykernel)",
   "language": "python",
   "name": "python3"
  },
  "language_info": {
   "codemirror_mode": {
    "name": "ipython",
    "version": 3
   },
   "file_extension": ".py",
   "mimetype": "text/x-python",
   "name": "python",
   "nbconvert_exporter": "python",
   "pygments_lexer": "ipython3",
   "version": "3.12.7"
  }
 },
 "nbformat": 4,
 "nbformat_minor": 5
}
